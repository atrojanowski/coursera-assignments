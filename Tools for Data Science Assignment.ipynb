{
 "cells": [
  {
   "cell_type": "markdown",
   "id": "b2536214-16e6-4eda-bccd-3a7456722b9d",
   "metadata": {},
   "source": [
    "# My Jupyter Notebook on IBM Watson Studio"
   ]
  },
  {
   "cell_type": "markdown",
   "id": "0962ff1f-7a41-419f-8e7d-e3714016e9af",
   "metadata": {},
   "source": [
    "**Adam Trojanowski**  \n",
    "IT Generalist"
   ]
  },
  {
   "cell_type": "markdown",
   "id": "f274b9a4-65c8-4421-ad2d-e455f24e2765",
   "metadata": {},
   "source": [
    "*I'm interested in data science because I've been working with data for years as a DBA assisting data scientists with their roles by gathering and cleaning data. I would like to move into the actual analysis of the data because it seems a lot more interesting than just copying data around.*"
   ]
  },
  {
   "cell_type": "markdown",
   "id": "a1184997-95d8-41b9-86bd-252f3fcc1a58",
   "metadata": {},
   "source": [
    "### The following code calculates the volume of a cube with a side length 2"
   ]
  },
  {
   "cell_type": "code",
   "execution_count": 7,
   "id": "b79651dd-b298-478f-bb37-b4f77fa7520a",
   "metadata": {},
   "outputs": [
    {
     "data": {
      "text/plain": [
       "8"
      ]
     },
     "execution_count": 7,
     "metadata": {},
     "output_type": "execute_result"
    }
   ],
   "source": [
    "def cubeVolume(n):\n",
    "    return n**3\n",
    "\n",
    "cubeVolume(2)"
   ]
  },
  {
   "cell_type": "markdown",
   "id": "3cc55861-0171-4de1-b8c6-3d224c404218",
   "metadata": {},
   "source": [
    "This is an unordered list of the days of the week\n",
    "\n",
    "---\n",
    "- Sunday\n",
    "- Monday\n",
    "- Tuesday\n",
    "- Wednesday\n",
    "- Thursday\n",
    "- Friday\n",
    "- ~~Extraday~~\n",
    "---\n",
    "\n",
    "using a bulleted list, 2 horizontal rules and strikethrough"
   ]
  }
 ],
 "metadata": {
  "kernelspec": {
   "display_name": "Python 3 (ipykernel)",
   "language": "python",
   "name": "python3"
  },
  "language_info": {
   "codemirror_mode": {
    "name": "ipython",
    "version": 3
   },
   "file_extension": ".py",
   "mimetype": "text/x-python",
   "name": "python",
   "nbconvert_exporter": "python",
   "pygments_lexer": "ipython3",
   "version": "3.10.8"
  }
 },
 "nbformat": 4,
 "nbformat_minor": 5
}
